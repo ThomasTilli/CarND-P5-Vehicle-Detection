{
 "cells": [
  {
   "cell_type": "markdown",
   "metadata": {},
   "source": [
    "#  Using UNet for vehicle detection"
   ]
  },
  {
   "cell_type": "code",
   "execution_count": 3,
   "metadata": {
    "collapsed": false
   },
   "outputs": [],
   "source": [
    "# Import libraries\n",
    "import cv2\n",
    "import matplotlib.pyplot as plt\n",
    "from matplotlib.patches import Rectangle\n",
    "import numpy as np\n",
    "% matplotlib inline\n",
    "import glob\n",
    "\n",
    "from keras.models import Model\n",
    "from keras.layers import Input, merge, Convolution2D, MaxPooling2D, UpSampling2D, Reshape, core, Dropout,Lambda\n",
    "from keras.optimizers import Adam\n",
    "from keras.callbacks import ModelCheckpoint, LearningRateScheduler\n",
    "from keras import backend as K\n",
    "from scipy.ndimage.measurements import label\n",
    "\n",
    "from moviepy.editor import VideoFileClip"
   ]
  },
  {
   "cell_type": "markdown",
   "metadata": {},
   "source": [
    "# Some helper functions"
   ]
  },
  {
   "cell_type": "code",
   "execution_count": 4,
   "metadata": {
    "collapsed": false
   },
   "outputs": [],
   "source": [
    "\n",
    "img_rows = 640\n",
    "img_cols = 960\n",
    "heatmap_prev = np.zeros((img_rows,img_cols))\n",
    "heatmap_n = [np.zeros((img_rows,img_cols))]*10\n",
    "\n",
    "def smooth_heatmap(heatmap):\n",
    "    # Smoothing heatmap as average of 10 previous frames\n",
    "    global heatmap_n\n",
    "    \n",
    "    heatmap_1 = heatmap_n[1:]\n",
    "    heatmap_1.append(heatmap) \n",
    "    heatmap_n = heatmap_1   \n",
    "    heatmap = np.mean(heatmap_n,axis=0)\n",
    "    \n",
    "   \n",
    "    return heatmap \n",
    "\n",
    "\n",
    "def pred_for_img(img):\n",
    "    img = cv2.resize(img,(img_cols, img_rows))\n",
    "    img = np.reshape(img,(1,img_rows, img_cols,3))\n",
    "    pred = model.predict(img)\n",
    "    return pred,img[0]\n",
    "\n",
    "    \n",
    "def get_labeled_bboxes(img, labels):\n",
    "    # Get labeled boxex\n",
    "    bbox_all = []\n",
    "    for car_number in range(1, labels[1]+1):\n",
    "        # Find pixels with each car_number label value\n",
    "        nonzero = (labels[0] == car_number).nonzero()\n",
    "        # Identify x and y values of those pixels\n",
    "        nonzeroy = np.array(nonzero[0])\n",
    "        nonzerox = np.array(nonzero[1])\n",
    "        \n",
    "        # Define a bounding box based on min/max x and y\n",
    "        if ((np.max(nonzeroy)-np.min(nonzeroy)> 40) & (np.max(nonzerox)-np.min(nonzerox)> 40)):\n",
    "            bbox = ((np.min(nonzerox), np.min(nonzeroy)), (np.max(nonzerox), np.max(nonzeroy)))\n",
    "            # Draw the box on the image       \n",
    "            #cv2.rectangle(img, bbox[0], bbox[1], (0,0,255),6)\n",
    "            bbox_all.append(bbox)\n",
    "    # Return the image\n",
    "    return bbox_all\n",
    "\n",
    "def get_BB_new(img):\n",
    "    # Take in RGB image\n",
    "    pred,img = pred_for_img(img)\n",
    "    img  = np.array(img,dtype= np.uint8)\n",
    "    img_pred = np.array(255*pred[0],dtype=np.uint8)\n",
    "    heatmap = img_pred[:,:,0]\n",
    "    heatmap = smooth_heatmap(heatmap)\n",
    "    #print(np.max(heatmap))\n",
    "    heatmap[heatmap> 240] = 255\n",
    "    heatmap[heatmap<=240] = 0    \n",
    "    labels = label(heatmap)\n",
    "    \n",
    "    bbox_all = get_labeled_bboxes(np.copy(img), labels)\n",
    "    return bbox_all"
   ]
  },
  {
   "cell_type": "markdown",
   "metadata": {},
   "source": [
    "# Defining UNet Models"
   ]
  },
  {
   "cell_type": "code",
   "execution_count": 5,
   "metadata": {
    "collapsed": true
   },
   "outputs": [],
   "source": [
    "### IOU  coeff and loss calculation\n",
    "smooth=1.0\n",
    "def IOU_calc(y_true, y_pred):\n",
    "    y_true_f = K.flatten(y_true)\n",
    "    y_pred_f = K.flatten(y_pred)\n",
    "    intersection = K.sum(y_true_f * y_pred_f)\n",
    "    \n",
    "    return 2*(intersection + smooth) / (K.sum(y_true_f) + K.sum(y_pred_f) + smooth)\n",
    "\n",
    "\n",
    "def IOU_calc_loss(y_true, y_pred):\n",
    "    return -IOU_calc(y_true, y_pred)"
   ]
  },
  {
   "cell_type": "code",
   "execution_count": 6,
   "metadata": {
    "collapsed": true
   },
   "outputs": [],
   "source": [
    "##### Image size, \n",
    "img_rows = 640\n",
    "img_cols = 960\n",
    "\n",
    "#img_rows = 320\n",
    "#img_cols = 480\n",
    "\n",
    "#img_rows=480\n",
    "#img_cols=720"
   ]
  },
  {
   "cell_type": "code",
   "execution_count": 7,
   "metadata": {
    "collapsed": true
   },
   "outputs": [],
   "source": [
    "#based on repository https://github.com/orobix/retina-unet, \n",
    "#slightly modified to save GPU memory, original code in comments\n",
    "def get_gnet(drop=0.0):\n",
    "    inputs = Input((img_rows, img_cols,3))\n",
    "    inputs_norm = Lambda(lambda x: x/127.5 - 1.)\n",
    "  #  conv1 = Convolution2D(32, 3, 3, activation='relu', border_mode='same')(inputs)  \n",
    "    conv1 = Convolution2D(8, 3, 3, activation='relu', border_mode='same')(inputs)  \n",
    "    conv1 = Dropout(drop)(conv1)\n",
    "  #  conv1 = Convolution2D(32, 3, 3, activation='relu', border_mode='same')(conv1)\n",
    "    conv1 = Convolution2D(8, 3, 3, activation='relu', border_mode='same')(conv1)\n",
    "   # up1 = UpSampling2D(size=(2, 2))(conv1)\n",
    "  \n",
    "    conv2 = Convolution2D(16, 3, 3, activation='relu', border_mode='same')(conv1)\n",
    "    conv2 = Dropout(drop)(conv2)\n",
    "    conv2 = Convolution2D(16, 3, 3, activation='relu', border_mode='same')(conv2)\n",
    "    pool2 = MaxPooling2D(pool_size=(2, 2))(conv2)\n",
    "    #\n",
    "    conv3 = Convolution2D(32, 3, 3, activation='relu', border_mode='same')(pool2)\n",
    "    conv3 = Dropout(drop)(conv3)\n",
    "    conv3 = Convolution2D(32, 3, 3, activation='relu', border_mode='same')(conv3)\n",
    "    pool3 = MaxPooling2D(pool_size=(2, 2))(conv3)\n",
    "    #\n",
    "    conv4 = Convolution2D(64, 3, 3, activation='relu', border_mode='same')(pool3)\n",
    "    conv4 = Dropout(drop)(conv4)\n",
    "    conv4 = Convolution2D(64, 3, 3, activation='relu', border_mode='same')(conv4)\n",
    "    pool4 = MaxPooling2D(pool_size=(2, 2))(conv4)\n",
    "    #\n",
    "    conv5 = Convolution2D(128, 3, 3, activation='relu', border_mode='same')(pool4)\n",
    "    conv5 = Dropout(drop)(conv5)\n",
    "    conv5 = Convolution2D(128, 3, 3, activation='relu', border_mode='same')(conv5)\n",
    "    #\n",
    "    up6 = merge([UpSampling2D(size=(2, 2))(conv5), conv4], mode='concat', concat_axis=3)\n",
    "    conv6 = Convolution2D(64, 3, 3, activation='relu', border_mode='same')(up6)\n",
    "    conv6 = Dropout(drop)(conv6)\n",
    "    conv6 = Convolution2D(64, 3, 3, activation='relu', border_mode='same')(conv6)\n",
    "    #\n",
    "    up7 = merge([UpSampling2D(size=(2, 2))(conv6), conv3], mode='concat', concat_axis=3)\n",
    "    conv7 = Convolution2D(32, 3, 3, activation='relu', border_mode='same')(up7)\n",
    "    conv7 = Dropout(drop)(conv7)\n",
    "    conv7 = Convolution2D(32, 3, 3, activation='relu', border_mode='same')(conv7)\n",
    "    #\n",
    "    up8 = merge([UpSampling2D(size=(2, 2))(conv7), conv2], mode='concat', concat_axis=3)\n",
    "    conv8 = Convolution2D(16, 3, 3, activation='relu', border_mode='same')(up8)\n",
    "    conv8 = Dropout(drop)(conv8)\n",
    "    conv8 = Convolution2D(16, 3, 3, activation='relu', border_mode='same')(conv8)\n",
    "    #\n",
    "  #  pool4 = MaxPooling2D(pool_size=(2, 2))(conv8)\n",
    "\n",
    "  #  conv9 = Convolution2D(32, 3, 3, activation='relu', border_mode='same')(pool4)\n",
    "    conv9 = Convolution2D(8, 3, 3, activation='relu', border_mode='same')(conv8)\n",
    "    conv9 = Dropout(drop)(conv9)\n",
    " #   conv9 = Convolution2D(32, 3, 3, activation='relu', border_mode='same')(conv9)\n",
    "    conv9 = Convolution2D(8, 3, 3, activation='relu', border_mode='same')(conv9)\n",
    "\n",
    "    #\n",
    "    conv10 = Convolution2D(1, 1, 1, activation='sigmoid')(conv9)\n",
    "\n",
    "    model = Model(input=inputs, output=conv10)\n",
    "\n",
    "   \n",
    "    return model\n",
    "\n"
   ]
  },
  {
   "cell_type": "code",
   "execution_count": 8,
   "metadata": {
    "collapsed": true
   },
   "outputs": [],
   "source": [
    "def get_adopted_unet():\n",
    "    inputs = Input((img_rows, img_cols,3))\n",
    "    inputs_norm = Lambda(lambda x: x/127.5 - 1.)\n",
    "    conv1 = Convolution2D(8, 3, 3, activation='relu', border_mode='same')(inputs)\n",
    "    conv1 = Convolution2D(8, 3, 3, activation='relu', border_mode='same')(conv1)\n",
    "    pool1 = MaxPooling2D(pool_size=(2, 2))(conv1)\n",
    "\n",
    "    conv2 = Convolution2D(16, 3, 3, activation='relu', border_mode='same')(pool1)\n",
    "    conv2 = Convolution2D(16, 3, 3, activation='relu', border_mode='same')(conv2)\n",
    "    pool2 = MaxPooling2D(pool_size=(2, 2))(conv2)\n",
    "\n",
    "    conv3 = Convolution2D(32, 3, 3, activation='relu', border_mode='same')(pool2)\n",
    "    conv3 = Convolution2D(32, 3, 3, activation='relu', border_mode='same')(conv3)\n",
    "    pool3 = MaxPooling2D(pool_size=(2, 2))(conv3)\n",
    "\n",
    "    conv4 = Convolution2D(64, 3, 3, activation='relu', border_mode='same')(pool3)\n",
    "    conv4 = Convolution2D(64, 3, 3, activation='relu', border_mode='same')(conv4)\n",
    "    pool4 = MaxPooling2D(pool_size=(2, 2))(conv4)\n",
    "\n",
    "    conv5 = Convolution2D(128, 3, 3, activation='relu', border_mode='same')(pool4)\n",
    "    conv5 = Convolution2D(128, 3, 3, activation='relu', border_mode='same')(conv5)\n",
    "\n",
    "    up6 = merge([UpSampling2D(size=(2, 2))(conv5), conv4], mode='concat', concat_axis=3)\n",
    "    conv6 = Convolution2D(64, 3, 3, activation='relu', border_mode='same')(up6)\n",
    "    conv6 = Convolution2D(64, 3, 3, activation='relu', border_mode='same')(conv6)\n",
    "\n",
    "    up7 = merge([UpSampling2D(size=(2, 2))(conv6), conv3], mode='concat', concat_axis=3)\n",
    "    conv7 = Convolution2D(32, 3, 3, activation='relu', border_mode='same')(up7)\n",
    "    conv7 = Convolution2D(32, 3, 3, activation='relu', border_mode='same')(conv7)\n",
    "\n",
    "    up8 = merge([UpSampling2D(size=(2, 2))(conv7), conv2], mode='concat', concat_axis=3)\n",
    "    conv8 = Convolution2D(16, 3, 3, activation='relu', border_mode='same')(up8)\n",
    "    conv8 = Convolution2D(16, 3, 3, activation='relu', border_mode='same')(conv8)\n",
    "\n",
    "    up9 = merge([UpSampling2D(size=(2, 2))(conv8), conv1], mode='concat', concat_axis=3)\n",
    "    conv9 = Convolution2D(8, 3, 3, activation='relu', border_mode='same')(up9)\n",
    "    conv9 = Convolution2D(8, 3, 3, activation='relu', border_mode='same')(conv9)\n",
    "\n",
    "    conv10 = Convolution2D(1, 1, 1, activation='sigmoid')(conv9)\n",
    "\n",
    "    model = Model(input=inputs, output=conv10)\n",
    "\n",
    "    \n",
    "    return model\n"
   ]
  },
  {
   "cell_type": "markdown",
   "metadata": {},
   "source": [
    "# Loading trained UNet model"
   ]
  },
  {
   "cell_type": "code",
   "execution_count": 9,
   "metadata": {
    "collapsed": false
   },
   "outputs": [
    {
     "name": "stdout",
     "output_type": "stream",
     "text": [
      "____________________________________________________________________________________________________\n",
      "Layer (type)                     Output Shape          Param #     Connected to                     \n",
      "====================================================================================================\n",
      "input_1 (InputLayer)             (None, 640, 960, 3)   0                                            \n",
      "____________________________________________________________________________________________________\n",
      "convolution2d_1 (Convolution2D)  (None, 640, 960, 8)   224         input_1[0][0]                    \n",
      "____________________________________________________________________________________________________\n",
      "dropout_1 (Dropout)              (None, 640, 960, 8)   0           convolution2d_1[0][0]            \n",
      "____________________________________________________________________________________________________\n",
      "convolution2d_2 (Convolution2D)  (None, 640, 960, 8)   584         dropout_1[0][0]                  \n",
      "____________________________________________________________________________________________________\n",
      "convolution2d_3 (Convolution2D)  (None, 640, 960, 16)  1168        convolution2d_2[0][0]            \n",
      "____________________________________________________________________________________________________\n",
      "dropout_2 (Dropout)              (None, 640, 960, 16)  0           convolution2d_3[0][0]            \n",
      "____________________________________________________________________________________________________\n",
      "convolution2d_4 (Convolution2D)  (None, 640, 960, 16)  2320        dropout_2[0][0]                  \n",
      "____________________________________________________________________________________________________\n",
      "maxpooling2d_1 (MaxPooling2D)    (None, 320, 480, 16)  0           convolution2d_4[0][0]            \n",
      "____________________________________________________________________________________________________\n",
      "convolution2d_5 (Convolution2D)  (None, 320, 480, 32)  4640        maxpooling2d_1[0][0]             \n",
      "____________________________________________________________________________________________________\n",
      "dropout_3 (Dropout)              (None, 320, 480, 32)  0           convolution2d_5[0][0]            \n",
      "____________________________________________________________________________________________________\n",
      "convolution2d_6 (Convolution2D)  (None, 320, 480, 32)  9248        dropout_3[0][0]                  \n",
      "____________________________________________________________________________________________________\n",
      "maxpooling2d_2 (MaxPooling2D)    (None, 160, 240, 32)  0           convolution2d_6[0][0]            \n",
      "____________________________________________________________________________________________________\n",
      "convolution2d_7 (Convolution2D)  (None, 160, 240, 64)  18496       maxpooling2d_2[0][0]             \n",
      "____________________________________________________________________________________________________\n",
      "dropout_4 (Dropout)              (None, 160, 240, 64)  0           convolution2d_7[0][0]            \n",
      "____________________________________________________________________________________________________\n",
      "convolution2d_8 (Convolution2D)  (None, 160, 240, 64)  36928       dropout_4[0][0]                  \n",
      "____________________________________________________________________________________________________\n",
      "maxpooling2d_3 (MaxPooling2D)    (None, 80, 120, 64)   0           convolution2d_8[0][0]            \n",
      "____________________________________________________________________________________________________\n",
      "convolution2d_9 (Convolution2D)  (None, 80, 120, 128)  73856       maxpooling2d_3[0][0]             \n",
      "____________________________________________________________________________________________________\n",
      "dropout_5 (Dropout)              (None, 80, 120, 128)  0           convolution2d_9[0][0]            \n",
      "____________________________________________________________________________________________________\n",
      "convolution2d_10 (Convolution2D) (None, 80, 120, 128)  147584      dropout_5[0][0]                  \n",
      "____________________________________________________________________________________________________\n",
      "upsampling2d_1 (UpSampling2D)    (None, 160, 240, 128) 0           convolution2d_10[0][0]           \n",
      "____________________________________________________________________________________________________\n",
      "merge_1 (Merge)                  (None, 160, 240, 192) 0           upsampling2d_1[0][0]             \n",
      "                                                                   convolution2d_8[0][0]            \n",
      "____________________________________________________________________________________________________\n",
      "convolution2d_11 (Convolution2D) (None, 160, 240, 64)  110656      merge_1[0][0]                    \n",
      "____________________________________________________________________________________________________\n",
      "dropout_6 (Dropout)              (None, 160, 240, 64)  0           convolution2d_11[0][0]           \n",
      "____________________________________________________________________________________________________\n",
      "convolution2d_12 (Convolution2D) (None, 160, 240, 64)  36928       dropout_6[0][0]                  \n",
      "____________________________________________________________________________________________________\n",
      "upsampling2d_2 (UpSampling2D)    (None, 320, 480, 64)  0           convolution2d_12[0][0]           \n",
      "____________________________________________________________________________________________________\n",
      "merge_2 (Merge)                  (None, 320, 480, 96)  0           upsampling2d_2[0][0]             \n",
      "                                                                   convolution2d_6[0][0]            \n",
      "____________________________________________________________________________________________________\n",
      "convolution2d_13 (Convolution2D) (None, 320, 480, 32)  27680       merge_2[0][0]                    \n",
      "____________________________________________________________________________________________________\n",
      "dropout_7 (Dropout)              (None, 320, 480, 32)  0           convolution2d_13[0][0]           \n",
      "____________________________________________________________________________________________________\n",
      "convolution2d_14 (Convolution2D) (None, 320, 480, 32)  9248        dropout_7[0][0]                  \n",
      "____________________________________________________________________________________________________\n",
      "upsampling2d_3 (UpSampling2D)    (None, 640, 960, 32)  0           convolution2d_14[0][0]           \n",
      "____________________________________________________________________________________________________\n",
      "merge_3 (Merge)                  (None, 640, 960, 48)  0           upsampling2d_3[0][0]             \n",
      "                                                                   convolution2d_4[0][0]            \n",
      "____________________________________________________________________________________________________\n",
      "convolution2d_15 (Convolution2D) (None, 640, 960, 16)  6928        merge_3[0][0]                    \n",
      "____________________________________________________________________________________________________\n",
      "dropout_8 (Dropout)              (None, 640, 960, 16)  0           convolution2d_15[0][0]           \n",
      "____________________________________________________________________________________________________\n",
      "convolution2d_16 (Convolution2D) (None, 640, 960, 16)  2320        dropout_8[0][0]                  \n",
      "____________________________________________________________________________________________________\n",
      "convolution2d_17 (Convolution2D) (None, 640, 960, 8)   1160        convolution2d_16[0][0]           \n",
      "____________________________________________________________________________________________________\n",
      "dropout_9 (Dropout)              (None, 640, 960, 8)   0           convolution2d_17[0][0]           \n",
      "____________________________________________________________________________________________________\n",
      "convolution2d_18 (Convolution2D) (None, 640, 960, 8)   584         dropout_9[0][0]                  \n",
      "____________________________________________________________________________________________________\n",
      "convolution2d_19 (Convolution2D) (None, 640, 960, 1)   9           convolution2d_18[0][0]           \n",
      "====================================================================================================\n",
      "Total params: 490561\n",
      "____________________________________________________________________________________________________\n"
     ]
    }
   ],
   "source": [
    "##### Image size, \n",
    "img_rows = 640\n",
    "img_cols = 960\n",
    "\n",
    "#recreate model and load trained weights\n",
    "model = get_gnet()\n",
    "model.compile(optimizer=Adam(lr=1e-4), loss=IOU_calc_loss, metrics=[IOU_calc])\n",
    "model.load_weights(\"model_Unet_Weights_640_960_e400.h5\")   \n",
    "   \n",
    "model.summary()"
   ]
  },
  {
   "cell_type": "code",
   "execution_count": 10,
   "metadata": {
    "collapsed": false
   },
   "outputs": [],
   "source": [
    "def process_frame(image):   \n",
    "    \n",
    "    image_bb = np.copy(image)\n",
    "    bbox_cars = get_BB_new(image_bb)\n",
    "    result=image_bb\n",
    "    img_res_shape = result.shape\n",
    "    for bbox in bbox_cars:\n",
    "        cv2.rectangle(result, \n",
    "                      (np.int32(bbox[0][0]*img_res_shape[1]/img_cols),\n",
    "                       np.int32(bbox[0][1]*img_res_shape[0]/img_rows)), \n",
    "                      (np.int32(bbox[1][0]*img_res_shape[1]/img_cols),\n",
    "                       np.int32(bbox[1][1]*img_res_shape[0]/img_rows)),(0,255,0),6)\n",
    "    return result"
   ]
  },
  {
   "cell_type": "code",
   "execution_count": 11,
   "metadata": {
    "collapsed": false
   },
   "outputs": [
    {
     "name": "stdout",
     "output_type": "stream",
     "text": [
      "[MoviePy] >>>> Building video test_video_solution_gnet_400.mp4\n",
      "[MoviePy] Writing video test_video_solution_gnet_400.mp4\n"
     ]
    },
    {
     "name": "stderr",
     "output_type": "stream",
     "text": [
      " 97%|█████████▋| 38/39 [00:03<00:00, 11.18it/s]\n"
     ]
    },
    {
     "name": "stdout",
     "output_type": "stream",
     "text": [
      "[MoviePy] Done.\n",
      "[MoviePy] >>>> Video ready: test_video_solution_gnet_400.mp4 \n",
      "\n"
     ]
    }
   ],
   "source": [
    "heatmap_n = [np.zeros((img_rows,img_cols))]*5\n",
    "video_input1 = 'test_video.mp4'\n",
    "video_output1 = 'test_video_solution_gnet_400.mp4'\n",
    "clip = VideoFileClip(video_input1)\n",
    "white_clip = clip.fl_image(process_frame)  # NOTE: this function expects color images!\n",
    "white_clip.write_videofile(video_output1, audio=False)"
   ]
  },
  {
   "cell_type": "code",
   "execution_count": 12,
   "metadata": {
    "collapsed": false
   },
   "outputs": [
    {
     "name": "stdout",
     "output_type": "stream",
     "text": [
      "[MoviePy] >>>> Building video project_video_solution_gnet_400.mp4\n",
      "[MoviePy] Writing video project_video_solution_gnet_400.mp4\n"
     ]
    },
    {
     "name": "stderr",
     "output_type": "stream",
     "text": [
      "100%|█████████▉| 1260/1261 [01:50<00:00, 11.39it/s]\n"
     ]
    },
    {
     "name": "stdout",
     "output_type": "stream",
     "text": [
      "[MoviePy] Done.\n",
      "[MoviePy] >>>> Video ready: project_video_solution_gnet_400.mp4 \n",
      "\n"
     ]
    }
   ],
   "source": [
    "heatmap_n = [np.zeros((img_rows,img_cols))]*5\n",
    "video_input1 = 'project_video.mp4'\n",
    "video_output1 = 'project_video_solution_gnet_400.mp4'\n",
    "clip = VideoFileClip(video_input1)\n",
    "white_clip = clip.fl_image(process_frame)  # NOTE: this function expects color images!\n",
    "white_clip.write_videofile(video_output1, audio=False)\n"
   ]
  },
  {
   "cell_type": "markdown",
   "metadata": {},
   "source": [
    "# Load trained adopted UNet"
   ]
  },
  {
   "cell_type": "code",
   "execution_count": 13,
   "metadata": {
    "collapsed": false
   },
   "outputs": [
    {
     "name": "stdout",
     "output_type": "stream",
     "text": [
      "____________________________________________________________________________________________________\n",
      "Layer (type)                     Output Shape          Param #     Connected to                     \n",
      "====================================================================================================\n",
      "input_2 (InputLayer)             (None, 560, 720, 3)   0                                            \n",
      "____________________________________________________________________________________________________\n",
      "convolution2d_20 (Convolution2D) (None, 560, 720, 8)   224         input_2[0][0]                    \n",
      "____________________________________________________________________________________________________\n",
      "convolution2d_21 (Convolution2D) (None, 560, 720, 8)   584         convolution2d_20[0][0]           \n",
      "____________________________________________________________________________________________________\n",
      "maxpooling2d_4 (MaxPooling2D)    (None, 280, 360, 8)   0           convolution2d_21[0][0]           \n",
      "____________________________________________________________________________________________________\n",
      "convolution2d_22 (Convolution2D) (None, 280, 360, 16)  1168        maxpooling2d_4[0][0]             \n",
      "____________________________________________________________________________________________________\n",
      "convolution2d_23 (Convolution2D) (None, 280, 360, 16)  2320        convolution2d_22[0][0]           \n",
      "____________________________________________________________________________________________________\n",
      "maxpooling2d_5 (MaxPooling2D)    (None, 140, 180, 16)  0           convolution2d_23[0][0]           \n",
      "____________________________________________________________________________________________________\n",
      "convolution2d_24 (Convolution2D) (None, 140, 180, 32)  4640        maxpooling2d_5[0][0]             \n",
      "____________________________________________________________________________________________________\n",
      "convolution2d_25 (Convolution2D) (None, 140, 180, 32)  9248        convolution2d_24[0][0]           \n",
      "____________________________________________________________________________________________________\n",
      "maxpooling2d_6 (MaxPooling2D)    (None, 70, 90, 32)    0           convolution2d_25[0][0]           \n",
      "____________________________________________________________________________________________________\n",
      "convolution2d_26 (Convolution2D) (None, 70, 90, 64)    18496       maxpooling2d_6[0][0]             \n",
      "____________________________________________________________________________________________________\n",
      "convolution2d_27 (Convolution2D) (None, 70, 90, 64)    36928       convolution2d_26[0][0]           \n",
      "____________________________________________________________________________________________________\n",
      "maxpooling2d_7 (MaxPooling2D)    (None, 35, 45, 64)    0           convolution2d_27[0][0]           \n",
      "____________________________________________________________________________________________________\n",
      "convolution2d_28 (Convolution2D) (None, 35, 45, 128)   73856       maxpooling2d_7[0][0]             \n",
      "____________________________________________________________________________________________________\n",
      "convolution2d_29 (Convolution2D) (None, 35, 45, 128)   147584      convolution2d_28[0][0]           \n",
      "____________________________________________________________________________________________________\n",
      "upsampling2d_4 (UpSampling2D)    (None, 70, 90, 128)   0           convolution2d_29[0][0]           \n",
      "____________________________________________________________________________________________________\n",
      "merge_4 (Merge)                  (None, 70, 90, 192)   0           upsampling2d_4[0][0]             \n",
      "                                                                   convolution2d_27[0][0]           \n",
      "____________________________________________________________________________________________________\n",
      "convolution2d_30 (Convolution2D) (None, 70, 90, 64)    110656      merge_4[0][0]                    \n",
      "____________________________________________________________________________________________________\n",
      "convolution2d_31 (Convolution2D) (None, 70, 90, 64)    36928       convolution2d_30[0][0]           \n",
      "____________________________________________________________________________________________________\n",
      "upsampling2d_5 (UpSampling2D)    (None, 140, 180, 64)  0           convolution2d_31[0][0]           \n",
      "____________________________________________________________________________________________________\n",
      "merge_5 (Merge)                  (None, 140, 180, 96)  0           upsampling2d_5[0][0]             \n",
      "                                                                   convolution2d_25[0][0]           \n",
      "____________________________________________________________________________________________________\n",
      "convolution2d_32 (Convolution2D) (None, 140, 180, 32)  27680       merge_5[0][0]                    \n",
      "____________________________________________________________________________________________________\n",
      "convolution2d_33 (Convolution2D) (None, 140, 180, 32)  9248        convolution2d_32[0][0]           \n",
      "____________________________________________________________________________________________________\n",
      "upsampling2d_6 (UpSampling2D)    (None, 280, 360, 32)  0           convolution2d_33[0][0]           \n",
      "____________________________________________________________________________________________________\n",
      "merge_6 (Merge)                  (None, 280, 360, 48)  0           upsampling2d_6[0][0]             \n",
      "                                                                   convolution2d_23[0][0]           \n",
      "____________________________________________________________________________________________________\n",
      "convolution2d_34 (Convolution2D) (None, 280, 360, 16)  6928        merge_6[0][0]                    \n",
      "____________________________________________________________________________________________________\n",
      "convolution2d_35 (Convolution2D) (None, 280, 360, 16)  2320        convolution2d_34[0][0]           \n",
      "____________________________________________________________________________________________________\n",
      "upsampling2d_7 (UpSampling2D)    (None, 560, 720, 16)  0           convolution2d_35[0][0]           \n",
      "____________________________________________________________________________________________________\n",
      "merge_7 (Merge)                  (None, 560, 720, 24)  0           upsampling2d_7[0][0]             \n",
      "                                                                   convolution2d_21[0][0]           \n",
      "____________________________________________________________________________________________________\n",
      "convolution2d_36 (Convolution2D) (None, 560, 720, 8)   1736        merge_7[0][0]                    \n",
      "____________________________________________________________________________________________________\n",
      "convolution2d_37 (Convolution2D) (None, 560, 720, 8)   584         convolution2d_36[0][0]           \n",
      "____________________________________________________________________________________________________\n",
      "convolution2d_38 (Convolution2D) (None, 560, 720, 1)   9           convolution2d_37[0][0]           \n",
      "====================================================================================================\n",
      "Total params: 491137\n",
      "____________________________________________________________________________________________________\n"
     ]
    }
   ],
   "source": [
    "##### Image size, \n",
    "img_rows = 640\n",
    "img_cols = 960\n",
    "\n",
    "img_rows = 560\n",
    "img_cols = 720\n",
    "\n",
    "\n",
    "\n",
    "#recreate model and load trained weights\n",
    "#del model\n",
    "model = get_adopted_unet()\n",
    "model.compile(optimizer=Adam(lr=1e-4), loss=IOU_calc_loss, metrics=[IOU_calc])\n",
    "\n",
    "model.load_weights(\"model_AdoptedUnet_Weights_640_960_e500.h5\")   \n",
    "\n",
    "\n",
    "   \n",
    "model.summary()"
   ]
  },
  {
   "cell_type": "code",
   "execution_count": 14,
   "metadata": {
    "collapsed": false
   },
   "outputs": [
    {
     "name": "stdout",
     "output_type": "stream",
     "text": [
      "[MoviePy] >>>> Building video test_video_solution_adopted_unet_500.mp4\n",
      "[MoviePy] Writing video test_video_solution_adopted_unet_500.mp4\n"
     ]
    },
    {
     "name": "stderr",
     "output_type": "stream",
     "text": [
      " 97%|█████████▋| 38/39 [00:01<00:00, 19.89it/s]\n"
     ]
    },
    {
     "name": "stdout",
     "output_type": "stream",
     "text": [
      "[MoviePy] Done.\n",
      "[MoviePy] >>>> Video ready: test_video_solution_adopted_unet_500.mp4 \n",
      "\n"
     ]
    }
   ],
   "source": [
    "heatmap_n = [np.zeros((img_rows,img_cols))]*10\n",
    "video_input1 = 'test_video.mp4'\n",
    "video_output1 = 'test_video_solution_adopted_unet_500.mp4'\n",
    "clip = VideoFileClip(video_input1)\n",
    "white_clip = clip.fl_image(process_frame)  # NOTE: this function expects color images!\n",
    "white_clip.write_videofile(video_output1, audio=False)"
   ]
  },
  {
   "cell_type": "code",
   "execution_count": 15,
   "metadata": {
    "collapsed": false
   },
   "outputs": [
    {
     "name": "stdout",
     "output_type": "stream",
     "text": [
      "[MoviePy] >>>> Building video project_video_solution_adopted_unet_500.mp4\n",
      "[MoviePy] Writing video project_video_solution_adopted_unet_500.mp4\n"
     ]
    },
    {
     "name": "stderr",
     "output_type": "stream",
     "text": [
      "100%|█████████▉| 1260/1261 [01:07<00:00, 18.70it/s]\n"
     ]
    },
    {
     "name": "stdout",
     "output_type": "stream",
     "text": [
      "[MoviePy] Done.\n",
      "[MoviePy] >>>> Video ready: project_video_solution_adopted_unet_500.mp4 \n",
      "\n"
     ]
    }
   ],
   "source": [
    "heatmap_n = [np.zeros((img_rows,img_cols))]*10\n",
    "video_input1 = 'project_video.mp4'\n",
    "video_output1 = 'project_video_solution_adopted_unet_500.mp4'\n",
    "clip = VideoFileClip(video_input1)\n",
    "white_clip = clip.fl_image(process_frame)  # NOTE: this function expects color images!\n",
    "white_clip.write_videofile(video_output1, audio=False)"
   ]
  }
 ],
 "metadata": {
  "anaconda-cloud": {},
  "kernelspec": {
   "display_name": "Python [conda root]",
   "language": "python",
   "name": "conda-root-py"
  },
  "language_info": {
   "codemirror_mode": {
    "name": "ipython",
    "version": 3
   },
   "file_extension": ".py",
   "mimetype": "text/x-python",
   "name": "python",
   "nbconvert_exporter": "python",
   "pygments_lexer": "ipython3",
   "version": "3.5.2"
  }
 },
 "nbformat": 4,
 "nbformat_minor": 1
}
